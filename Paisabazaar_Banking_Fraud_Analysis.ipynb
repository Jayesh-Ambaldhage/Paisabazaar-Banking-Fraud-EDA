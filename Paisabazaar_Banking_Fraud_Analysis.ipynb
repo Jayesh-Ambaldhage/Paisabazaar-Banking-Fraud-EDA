{
  "nbformat": 4,
  "nbformat_minor": 0,
  "metadata": {
    "colab": {
      "private_outputs": true,
      "provenance": [],
      "collapsed_sections": [
        "FJNUwmbgGyua",
        "w6K7xa23Elo4",
        "PH-0ReGfmX4f",
        "7hBIi_osiCS2",
        "JlHwYmJAmNHm",
        "35m5QtbWiB9F",
        "PoPl-ycgm1ru",
        "H0kj-8xxnORC",
        "PBTbrJXOngz2",
        "u3PMJOP6ngxN",
        "dauF4eBmngu3",
        "bKJF3rekwFvQ",
        "MSa1f5Uengrz",
        "GF8Ens_Soomf",
        "0wOQAZs5pc--",
        "K5QZ13OEpz2H",
        "lQ7QKXXCp7Bj",
        "448CDAPjqfQr",
        "KSlN3yHqYklG",
        "t6dVpIINYklI",
        "ijmpgYnKYklI",
        "-JiQyfWJYklI",
        "EM7whBJCYoAo",
        "fge-S5ZAYoAp",
        "85gYPyotYoAp",
        "RoGjAbkUYoAp",
        "4Of9eVA-YrdM",
        "iky9q4vBYrdO",
        "F6T5p64dYrdO",
        "y-Ehk30pYrdP",
        "bamQiAODYuh1",
        "QHF8YVU7Yuh3",
        "GwzvFGzlYuh3",
        "qYpmQ266Yuh3",
        "OH-pJp9IphqM",
        "bbFf2-_FphqN",
        "_ouA3fa0phqN",
        "Seke61FWphqN",
        "PIIx-8_IphqN",
        "t27r6nlMphqO",
        "r2jJGEOYphqO",
        "b0JNsNcRphqO",
        "BZR9WyysphqO",
        "jj7wYXLtphqO",
        "eZrbJ2SmphqO",
        "rFu4xreNphqO",
        "YJ55k-q6phqO",
        "gCFgpxoyphqP",
        "OVtJsKN_phqQ",
        "lssrdh5qphqQ",
        "U2RJ9gkRphqQ",
        "1M8mcRywphqQ",
        "tgIPom80phqQ",
        "JMzcOPDDphqR",
        "x-EpHcCOp1ci",
        "X_VqEhTip1ck",
        "8zGJKyg5p1ck",
        "PVzmfK_Ep1ck",
        "n3dbpmDWp1ck",
        "ylSl6qgtp1ck",
        "ZWILFDl5p1ck",
        "M7G43BXep1ck",
        "Ag9LCva-p1cl",
        "E6MkPsBcp1cl",
        "2cELzS2fp1cl",
        "3MPXvC8up1cl",
        "NC_X3p0fY2L0",
        "UV0SzAkaZNRQ",
        "YPEH6qLeZNRQ",
        "q29F0dvdveiT",
        "EXh0U9oCveiU",
        "22aHeOlLveiV",
        "JcMwzZxoAimU",
        "8G2x9gOozGDZ"
      ]
    },
    "kernelspec": {
      "name": "python3",
      "display_name": "Python 3"
    },
    "language_info": {
      "name": "python"
    }
  },
  "cells": [
    {
      "cell_type": "code",
      "source": [],
      "metadata": {
        "id": "I1apcow5dxii"
      },
      "execution_count": null,
      "outputs": []
    },
    {
      "cell_type": "code",
      "source": [
        "from google.colab import drive\n",
        "drive.mount('/content/drive')"
      ],
      "metadata": {
        "id": "gNKToTiDW24T"
      },
      "execution_count": null,
      "outputs": []
    },
    {
      "cell_type": "markdown",
      "source": [
        "# **Project Name**    -\n",
        "\n"
      ],
      "metadata": {
        "id": "vncDsAP0Gaoa"
      }
    },
    {
      "cell_type": "markdown",
      "source": [
        "##### **Project Type**    - EDA\n",
        "##### **Contribution**    - Individual\n",
        "##### **Name  -**  Jayesh Ambaldahge\n",
        "\n"
      ],
      "metadata": {
        "id": "beRrZCGUAJYm"
      }
    },
    {
      "cell_type": "markdown",
      "source": [
        "# **Project Summary -**"
      ],
      "metadata": {
        "id": "FJNUwmbgGyua"
      }
    },
    {
      "cell_type": "markdown",
      "source": [
        "This project focuses on performing an in-depth Exploratory Data Analysis (EDA) on customer credit-related data from Paisabazaar, a financial services company that relies heavily on creditworthiness assessment to approve loans and reduce financial risk. The objective of this analysis was to identify the patterns, anomalies, and key drivers influencing Credit Score categories (Good, Standard, Poor) while generating actionable business insights that can guide both lending and customer engagement strategies.\n",
        "\n",
        "The dataset contained detailed customer-level attributes such as Age, Occupation, Annual Income, Credit Utilization, Loan History, Repayment Behavior, Delayed Payments, Credit Mix, and Monthly Balances. With over 25 variables, the dataset provided a comprehensive view of customer financial behavior.\n",
        "\n",
        "The first stage involved understanding the dataset structure, identifying missing values, duplicate entries, and inconsistencies in numeric and categorical variables. Standard cleaning procedures such as filling nulls, normalizing formats, and ensuring consistent data types were applied to make the dataset ready for visualization.\n",
        "\n",
        "Through 15 well-chosen charts and visualizations, several strong insights were discovered:\n",
        "\n",
        "Credit Utilization Ratio showed that customers with higher utilization (>70%) mostly fall in the “Poor” credit score group, whereas disciplined users (30–40% utilization) are more likely to have “Good” scores.\n",
        "\n",
        "Occupation Distribution revealed that professions like Lawyers, Engineers, and Doctors dominate the customer base, with higher-income jobs correlating with better credit scores.\n",
        "\n",
        "Income and Age Factors highlighted that customers with higher annual income and individuals above 35 years of age tend to maintain healthier credit scores, whereas younger or low-income groups often struggle with repayment discipline.\n",
        "\n",
        "Repayment Behavior such as skipping minimum due payments or frequent delayed payments strongly aligned with “Poor” credit scores, confirming repayment history as one of the most crucial predictors of financial health.\n",
        "\n",
        "Credit Mix and Loan Count showed that customers maintaining a balanced mix of loans and credit cards tend to perform better, while those overloaded with multiple loans mostly fall under “Poor.”\n",
        "\n",
        "Correlation Analysis validated relationships such as debt being tied to EMI payments, and income closely linked with salary — essential for feature selection in future predictive modeling.\n",
        "\n",
        "These findings have direct implications for Paisabazaar’s business objectives. Customers can be segmented strategically:\n",
        "\n",
        "Good Credit Score: Offer premium loans, high-value credit cards, and investment products.\n",
        "\n",
        "Standard Credit Score: Provide credit-building programs, smaller loan options, and personalized financial advice to help them graduate into the “Good” category.\n",
        "\n",
        "Poor Credit Score: Implement stricter credit controls, limited credit exposure, and monitoring while also offering educational tools to improve financial habits.\n",
        "\n",
        "To reduce fraud and defaults, the company can give more weight to repayment discipline, utilization ratio, and delay history alongside traditional factors like income. Proactive measures such as automated payment reminders, auto-debit facilities, and reward points for timely repayments can encourage better credit behavior.\n",
        "\n",
        "In conclusion, the analysis highlighted that creditworthiness is a multi-dimensional outcome shaped by income levels, spending discipline, repayment patterns, and occupational stability. While a majority of customers currently fall under the “Standard” category, this represents an opportunity for Paisabazaar to convert them into “Good” through targeted interventions. By using these insights, the company can enhance risk management, increase lending profitability, and foster long-term customer relationships.\n",
        "\n",
        "This EDA not only provides clarity on the current customer base but also builds a strong foundation for future predictive modeling and fraud detection systems. Ultimately, the project demonstrates how data-driven decision-making can make lending both safer and more profitable for Paisabazaar."
      ],
      "metadata": {
        "id": "F6v_1wHtG2nS"
      }
    },
    {
      "cell_type": "markdown",
      "source": [
        "# **Problem Statement**\n"
      ],
      "metadata": {
        "id": "yQaldy8SH6Dl"
      }
    },
    {
      "cell_type": "markdown",
      "source": [
        "**Paisabazaar, a leading financial services company, relies heavily on assessing the creditworthiness of individuals to support loan approvals and manage financial risks. Credit scores play a vital role in this process, as they indicate the likelihood of an individual repaying their debts.\n",
        "\n",
        "To strengthen decision-making, Paisabazaar seeks to explore and analyze customer data that includes attributes such as income, spending behavior, credit card usage, and payment history. The goal is to perform Exploratory Data Analysis (EDA) to:\n",
        "\n",
        "Understand the distribution of credit scores (Good, Standard, Poor) across the customer base.\n",
        "\n",
        "Identify key factors that differentiate individuals with high and low credit scores.\n",
        "\n",
        "Detect patterns, correlations, and anomalies in the dataset that may influence credit score classification.\n",
        "\n",
        "Provide data-driven insights that can later support the development of predictive models and personalized financial recommendations.**"
      ],
      "metadata": {
        "id": "DpeJGUA3kjGy"
      }
    },
    {
      "cell_type": "markdown",
      "source": [
        "# ***Let's Begin !***"
      ],
      "metadata": {
        "id": "O_i_v8NEhb9l"
      }
    },
    {
      "cell_type": "markdown",
      "source": [
        "## ***1. Know Your Data***"
      ],
      "metadata": {
        "id": "HhfV-JJviCcP"
      }
    },
    {
      "cell_type": "markdown",
      "source": [
        "### Import Libraries"
      ],
      "metadata": {
        "id": "Y3lxredqlCYt"
      }
    },
    {
      "cell_type": "code",
      "source": [
        "# Import Libraries\n",
        "import pandas as pd\n",
        "import numpy as np\n",
        "import matplotlib.pyplot as plt\n",
        "import seaborn as sns"
      ],
      "metadata": {
        "id": "M8Vqi-pPk-HR"
      },
      "execution_count": null,
      "outputs": []
    },
    {
      "cell_type": "markdown",
      "source": [
        "### Dataset Loading"
      ],
      "metadata": {
        "id": "3RnN4peoiCZX"
      }
    },
    {
      "cell_type": "code",
      "source": [
        "# Load Dataset\n"
      ],
      "metadata": {
        "id": "4CkvbW_SlZ_R"
      },
      "execution_count": null,
      "outputs": []
    },
    {
      "cell_type": "code",
      "source": [
        "from google.colab import drive\n",
        "drive.mount('/content/drive')"
      ],
      "metadata": {
        "id": "-_ivHjcgUm8_"
      },
      "execution_count": null,
      "outputs": []
    },
    {
      "cell_type": "markdown",
      "source": [
        "### Dataset First View"
      ],
      "metadata": {
        "id": "x71ZqKXriCWQ"
      }
    },
    {
      "cell_type": "code",
      "source": [
        "# Dataset First Look"
      ],
      "metadata": {
        "id": "LWNFOSvLl09H"
      },
      "execution_count": null,
      "outputs": []
    },
    {
      "cell_type": "code",
      "source": [
        "df=pd.read_csv('/content/drive/MyDrive/dataset(2).csv')"
      ],
      "metadata": {
        "id": "8woVcYBrVyCN"
      },
      "execution_count": null,
      "outputs": []
    },
    {
      "cell_type": "markdown",
      "source": [
        "### Dataset Rows & Columns count"
      ],
      "metadata": {
        "id": "7hBIi_osiCS2"
      }
    },
    {
      "cell_type": "code",
      "source": [
        "# Dataset Rows & Columns count\n",
        "df.head()"
      ],
      "metadata": {
        "id": "Kllu7SJgmLij"
      },
      "execution_count": null,
      "outputs": []
    },
    {
      "cell_type": "markdown",
      "source": [
        "### Dataset Information"
      ],
      "metadata": {
        "id": "JlHwYmJAmNHm"
      }
    },
    {
      "cell_type": "code",
      "source": [
        "# Dataset Info\n",
        "df.info()"
      ],
      "metadata": {
        "id": "e9hRXRi6meOf"
      },
      "execution_count": null,
      "outputs": []
    },
    {
      "cell_type": "markdown",
      "source": [
        "#### Duplicate Values"
      ],
      "metadata": {
        "id": "35m5QtbWiB9F"
      }
    },
    {
      "cell_type": "code",
      "source": [
        "# Dataset Duplicate Value Count\n",
        "df.duplicated().sum()"
      ],
      "metadata": {
        "id": "1sLdpKYkmox0"
      },
      "execution_count": null,
      "outputs": []
    },
    {
      "cell_type": "markdown",
      "source": [
        "#### Missing Values/Null Values"
      ],
      "metadata": {
        "id": "PoPl-ycgm1ru"
      }
    },
    {
      "cell_type": "code",
      "source": [
        "# Missing Values/Null Values Count\n",
        "df.isnull().sum()"
      ],
      "metadata": {
        "id": "GgHWkxvamxVg"
      },
      "execution_count": null,
      "outputs": []
    },
    {
      "cell_type": "code",
      "source": [
        "# Visualizing the missing values\n",
        "# No missing values found"
      ],
      "metadata": {
        "id": "3q5wnI3om9sJ"
      },
      "execution_count": null,
      "outputs": []
    },
    {
      "cell_type": "markdown",
      "source": [
        "### What did you know about your dataset?"
      ],
      "metadata": {
        "id": "H0kj-8xxnORC"
      }
    },
    {
      "cell_type": "markdown",
      "source": [
        "Answer Here"
      ],
      "metadata": {
        "id": "gfoNAAC-nUe_"
      }
    },
    {
      "cell_type": "markdown",
      "source": [
        "## ***2. Understanding Your Variables***"
      ],
      "metadata": {
        "id": "nA9Y7ga8ng1Z"
      }
    },
    {
      "cell_type": "code",
      "source": [
        "# Dataset Columns\n",
        "df.columns"
      ],
      "metadata": {
        "id": "j7xfkqrt5Ag5"
      },
      "execution_count": null,
      "outputs": []
    },
    {
      "cell_type": "code",
      "source": [
        "# Dataset Describe\n",
        "df.describe()"
      ],
      "metadata": {
        "id": "DnOaZdaE5Q5t"
      },
      "execution_count": null,
      "outputs": []
    },
    {
      "cell_type": "markdown",
      "source": [
        "Answer Here"
      ],
      "metadata": {
        "id": "aJV4KIxSnxay"
      }
    },
    {
      "cell_type": "markdown",
      "source": [
        "### Check Unique Values for each variable."
      ],
      "metadata": {
        "id": "u3PMJOP6ngxN"
      }
    },
    {
      "cell_type": "code",
      "source": [
        "# Check Unique Values for each variable."
      ],
      "metadata": {
        "id": "zms12Yq5n-jE"
      },
      "execution_count": null,
      "outputs": []
    },
    {
      "cell_type": "markdown",
      "source": [
        "## 3. ***Data Wrangling***"
      ],
      "metadata": {
        "id": "dauF4eBmngu3"
      }
    },
    {
      "cell_type": "markdown",
      "source": [
        "### Data Wrangling Code"
      ],
      "metadata": {
        "id": "bKJF3rekwFvQ"
      }
    },
    {
      "cell_type": "code",
      "source": [
        "# Write your code to make your dataset analysis ready.\n",
        "df.columns"
      ],
      "metadata": {
        "id": "wk-9a2fpoLcV"
      },
      "execution_count": null,
      "outputs": []
    },
    {
      "cell_type": "code",
      "source": [
        "# Looking for the columns which  can be removed shince it will not be required in the analysis.\n",
        "'''\n",
        "dropping the following columns:\n",
        "1. ID\n",
        "2. Name\n",
        "3. SSN\n",
        "'''\n",
        "df.drop(columns=['ID','Name','SSN'],axis=1,inplace=True)\n"
      ],
      "metadata": {
        "id": "GgpqfamCcG1W"
      },
      "execution_count": null,
      "outputs": []
    },
    {
      "cell_type": "code",
      "source": [
        "df.columns"
      ],
      "metadata": {
        "id": "5NyuRdpUcHMZ"
      },
      "execution_count": null,
      "outputs": []
    },
    {
      "cell_type": "code",
      "source": [
        "df.shape"
      ],
      "metadata": {
        "id": "YiYW6nNGcHXk"
      },
      "execution_count": null,
      "outputs": []
    },
    {
      "cell_type": "code",
      "source": [
        "df.dtypes"
      ],
      "metadata": {
        "id": "Qnj4EbwAcHZm"
      },
      "execution_count": null,
      "outputs": []
    },
    {
      "cell_type": "code",
      "source": [
        "df['Type_of_Loan'].value_counts()"
      ],
      "metadata": {
        "id": "yb1gc8ZTcHcP"
      },
      "execution_count": null,
      "outputs": []
    },
    {
      "cell_type": "code",
      "source": [
        "#replacing No Data and Not Specified with NaN\n",
        "df['Type_of_Loan'].replace({'No Data':'NaN','Not Specified':'NaN'},inplace=True)\n"
      ],
      "metadata": {
        "id": "pnKJwRjzcHfw"
      },
      "execution_count": null,
      "outputs": []
    },
    {
      "cell_type": "code",
      "source": [
        "# Payment_of_Min_Amount\n",
        "df['Payment_of_Min_Amount'].value_counts()\n",
        "#replacing NM to NaN\n",
        "df['Payment_of_Min_Amount'].replace({'NM':'NaN'},inplace=True)"
      ],
      "metadata": {
        "id": "8rpR2TealpWq"
      },
      "execution_count": null,
      "outputs": []
    },
    {
      "cell_type": "code",
      "source": [
        "#checking if there is any negative value in the age column\n",
        "df[df['Age']<0]"
      ],
      "metadata": {
        "id": "cLpFSoxtlpZR"
      },
      "execution_count": null,
      "outputs": []
    },
    {
      "cell_type": "code",
      "source": [
        "#Annual_Income\n",
        "df[df['Annual_Income']<0]\n"
      ],
      "metadata": {
        "id": "9vrGrLLIlpca"
      },
      "execution_count": null,
      "outputs": []
    },
    {
      "cell_type": "code",
      "source": [
        "#Monthly_Inhand_Salary\n",
        "df[df['Monthly_Inhand_Salary']<0]"
      ],
      "metadata": {
        "id": "raePJ18ClpfY"
      },
      "execution_count": null,
      "outputs": []
    },
    {
      "cell_type": "code",
      "source": [
        "#Num_Bank_Accounts\n",
        "df[df['Num_Bank_Accounts']<0]\n"
      ],
      "metadata": {
        "id": "VTAFvfMelphx"
      },
      "execution_count": null,
      "outputs": []
    },
    {
      "cell_type": "code",
      "source": [
        "#Num_Credit_Card\n",
        "df[df['Num_Credit_Card']<0]"
      ],
      "metadata": {
        "id": "7HkdBL_Zlpkw"
      },
      "execution_count": null,
      "outputs": []
    },
    {
      "cell_type": "code",
      "source": [
        "#checking for any duplicate values\n",
        "df.duplicated().sum()"
      ],
      "metadata": {
        "id": "qNhr1hK9lpnB"
      },
      "execution_count": null,
      "outputs": []
    },
    {
      "cell_type": "code",
      "source": [
        "df.isna().sum()"
      ],
      "metadata": {
        "id": "pvChIf4dlpp8"
      },
      "execution_count": null,
      "outputs": []
    },
    {
      "cell_type": "code",
      "source": [
        "df.info()"
      ],
      "metadata": {
        "id": "a6E0ATRVlpyC"
      },
      "execution_count": null,
      "outputs": []
    },
    {
      "cell_type": "markdown",
      "source": [
        "### What all manipulations have you done and insights you found?"
      ],
      "metadata": {
        "id": "MSa1f5Uengrz"
      }
    },
    {
      "cell_type": "markdown",
      "source": [
        "Answer Here."
      ],
      "metadata": {
        "id": "LbyXE7I1olp8"
      }
    },
    {
      "cell_type": "code",
      "source": [],
      "metadata": {
        "id": "ddTblDnGcCVY"
      },
      "execution_count": null,
      "outputs": []
    },
    {
      "cell_type": "markdown",
      "source": [
        "## ***4. Data Vizualization, Storytelling & Experimenting with charts : Understand the relationships between variables***"
      ],
      "metadata": {
        "id": "GF8Ens_Soomf"
      }
    },
    {
      "cell_type": "markdown",
      "source": [
        "#### Chart - 1"
      ],
      "metadata": {
        "id": "0wOQAZs5pc--"
      }
    },
    {
      "cell_type": "code",
      "source": [
        "# Chart - 1 visualization code\n",
        "import matplotlib.pyplot as plt\n",
        "import seaborn as sns\n",
        "\n",
        "# Set style\n",
        "sns.set(style=\"whitegrid\", palette=\"muted\", font_scale=1.2)\n",
        "\n",
        "# 1. Histogram of Age\n",
        "plt.figure(figsize=(8,5))\n",
        "sns.histplot(df[\"Age\"], bins=30, kde=True, color=\"skyblue\")\n",
        "plt.title(\"Distribution of Customer Age\")\n",
        "plt.xlabel(\"Age\")\n",
        "plt.ylabel(\"Count\")\n",
        "plt.show()"
      ],
      "metadata": {
        "id": "7v_ESjsspbW7"
      },
      "execution_count": null,
      "outputs": []
    },
    {
      "cell_type": "markdown",
      "source": [
        "##### 1. Why did you pick the specific chart?"
      ],
      "metadata": {
        "id": "K5QZ13OEpz2H"
      }
    },
    {
      "cell_type": "markdown",
      "source": [
        "To see customer age distribution."
      ],
      "metadata": {
        "id": "XESiWehPqBRc"
      }
    },
    {
      "cell_type": "markdown",
      "source": [
        "##### 2. What is/are the insight(s) found from the chart?"
      ],
      "metadata": {
        "id": "lQ7QKXXCp7Bj"
      }
    },
    {
      "cell_type": "markdown",
      "source": [
        "Most customers are 20–45 years."
      ],
      "metadata": {
        "id": "C_j1G7yiqdRP"
      }
    },
    {
      "cell_type": "markdown",
      "source": [
        "##### 3. Will the gained insights help creating a positive business impact?\n",
        "Are there any insights that lead to negative growth? Justify with specific reason."
      ],
      "metadata": {
        "id": "448CDAPjqfQr"
      }
    },
    {
      "cell_type": "markdown",
      "source": [
        "Helps tailor financial products for dominant age groups."
      ],
      "metadata": {
        "id": "3cspy4FjqxJW"
      }
    },
    {
      "cell_type": "markdown",
      "source": [
        "#### Chart - 2"
      ],
      "metadata": {
        "id": "KSlN3yHqYklG"
      }
    },
    {
      "cell_type": "code",
      "source": [
        "# Chart - 2 visualization code\n",
        "# 2. Credit Score Distribution\n",
        "plt.figure(figsize=(6,4))\n",
        "sns.countplot(x='Credit_Score', data=df, order=df['Credit_Score'].value_counts().index)\n",
        "plt.title(\"Credit Score Distribution\")\n",
        "plt.xlabel(\"Credit Score\")\n",
        "plt.ylabel(\"Count\")\n",
        "plt.show()\n",
        "\n"
      ],
      "metadata": {
        "id": "R4YgtaqtYklH"
      },
      "execution_count": null,
      "outputs": []
    },
    {
      "cell_type": "markdown",
      "source": [
        "##### 1. Why did you pick the specific chart?"
      ],
      "metadata": {
        "id": "t6dVpIINYklI"
      }
    },
    {
      "cell_type": "markdown",
      "source": [
        "Shows overall customer segmentation."
      ],
      "metadata": {
        "id": "5aaW0BYyYklI"
      }
    },
    {
      "cell_type": "markdown",
      "source": [
        "##### 2. What is/are the insight(s) found from the chart?"
      ],
      "metadata": {
        "id": "ijmpgYnKYklI"
      }
    },
    {
      "cell_type": "markdown",
      "source": [
        "Majority have Standard scores."
      ],
      "metadata": {
        "id": "PSx9atu2YklI"
      }
    },
    {
      "cell_type": "markdown",
      "source": [
        "##### 3. Will the gained insights help creating a positive business impact?\n",
        "Are there any insights that lead to negative growth? Justify with specific reason."
      ],
      "metadata": {
        "id": "-JiQyfWJYklI"
      }
    },
    {
      "cell_type": "markdown",
      "source": [
        "Helps Paisabazaar identify focus groups (improve “Poor” or target “Good”)."
      ],
      "metadata": {
        "id": "BcBbebzrYklV"
      }
    },
    {
      "cell_type": "markdown",
      "source": [
        "#### Chart - 3"
      ],
      "metadata": {
        "id": "EM7whBJCYoAo"
      }
    },
    {
      "cell_type": "code",
      "source": [
        "# Chart - 3 visualization code\n",
        "# 3. Annual Income Distribution\n",
        "plt.figure(figsize=(6,4))\n",
        "sns.histplot(df['Annual_Income'], bins=30, kde=True)\n",
        "plt.title(\"Annual Income Distribution\")\n",
        "plt.xlabel(\"Annual Income\")\n",
        "plt.ylabel(\"Count\")\n",
        "plt.show()\n",
        "\n",
        "plt.figure(figsize=(6,4))\n",
        "sns.boxplot(x=df['Annual_Income'])\n",
        "plt.title(\"Annual Income Spread (Boxplot)\")\n",
        "plt.show()"
      ],
      "metadata": {
        "id": "t6GMdE67YoAp"
      },
      "execution_count": null,
      "outputs": []
    },
    {
      "cell_type": "markdown",
      "source": [
        "##### 1. Why did you pick the specific chart?"
      ],
      "metadata": {
        "id": "fge-S5ZAYoAp"
      }
    },
    {
      "cell_type": "markdown",
      "source": [
        "Income drives creditworthiness."
      ],
      "metadata": {
        "id": "5dBItgRVYoAp"
      }
    },
    {
      "cell_type": "markdown",
      "source": [
        "##### 2. What is/are the insight(s) found from the chart?"
      ],
      "metadata": {
        "id": "85gYPyotYoAp"
      }
    },
    {
      "cell_type": "markdown",
      "source": [
        "Skewed with few high earners"
      ],
      "metadata": {
        "id": "4jstXR6OYoAp"
      }
    },
    {
      "cell_type": "markdown",
      "source": [
        "##### 3. Will the gained insights help creating a positive business impact?\n",
        "Are there any insights that lead to negative growth? Justify with specific reason."
      ],
      "metadata": {
        "id": "RoGjAbkUYoAp"
      }
    },
    {
      "cell_type": "markdown",
      "source": [
        "Identify middle vs premium customer clusters."
      ],
      "metadata": {
        "id": "zfJ8IqMcYoAp"
      }
    },
    {
      "cell_type": "markdown",
      "source": [
        "#### Chart - 4"
      ],
      "metadata": {
        "id": "4Of9eVA-YrdM"
      }
    },
    {
      "cell_type": "code",
      "source": [
        "# Chart - 4 visualization code\n",
        "# 4. Outstanding Debt Distribution (Histogram)\n",
        "plt.figure(figsize=(6,4))\n",
        "sns.histplot(df['Outstanding_Debt'], bins=30, kde=True, color=\"orange\")\n",
        "plt.title(\"Outstanding Debt Distribution\")\n",
        "plt.xlabel(\"Outstanding Debt\")\n",
        "plt.ylabel(\"Count\")\n",
        "plt.show()"
      ],
      "metadata": {
        "id": "irlUoxc8YrdO"
      },
      "execution_count": null,
      "outputs": []
    },
    {
      "cell_type": "markdown",
      "source": [
        "##### 1. Why did you pick the specific chart?"
      ],
      "metadata": {
        "id": "iky9q4vBYrdO"
      }
    },
    {
      "cell_type": "markdown",
      "source": [
        "Debt affects risk."
      ],
      "metadata": {
        "id": "aJRCwT6DYrdO"
      }
    },
    {
      "cell_type": "markdown",
      "source": [
        "##### 2. What is/are the insight(s) found from the chart?"
      ],
      "metadata": {
        "id": "F6T5p64dYrdO"
      }
    },
    {
      "cell_type": "markdown",
      "source": [
        "Many customers have moderate debt."
      ],
      "metadata": {
        "id": "Xx8WAJvtYrdO"
      }
    },
    {
      "cell_type": "markdown",
      "source": [
        "##### 3. Will the gained insights help creating a positive business impact?\n",
        "Are there any insights that lead to negative growth? Justify with specific reason."
      ],
      "metadata": {
        "id": "y-Ehk30pYrdP"
      }
    },
    {
      "cell_type": "markdown",
      "source": [
        "Helps refine loan approval rules."
      ],
      "metadata": {
        "id": "jLNxxz7MYrdP"
      }
    },
    {
      "cell_type": "markdown",
      "source": [
        "#### Chart - 5"
      ],
      "metadata": {
        "id": "bamQiAODYuh1"
      }
    },
    {
      "cell_type": "code",
      "source": [
        "# Chart - 5 visualization code\n",
        "# 5. Credit Utilization Ratio Distribution (Histogram)\n",
        "plt.figure(figsize=(6,4))\n",
        "sns.histplot(df['Credit_Utilization_Ratio'], bins=30, kde=True, color=\"green\")\n",
        "plt.title(\"Credit Utilization Ratio Distribution\")\n",
        "plt.xlabel(\"Credit Utilization Ratio\")\n",
        "plt.ylabel(\"Count\")\n",
        "plt.show()"
      ],
      "metadata": {
        "id": "TIJwrbroYuh3"
      },
      "execution_count": null,
      "outputs": []
    },
    {
      "cell_type": "markdown",
      "source": [
        "##### 1. Why did you pick the specific chart?"
      ],
      "metadata": {
        "id": "QHF8YVU7Yuh3"
      }
    },
    {
      "cell_type": "markdown",
      "source": [
        "Answer Here."
      ],
      "metadata": {
        "id": "dcxuIMRPYuh3"
      }
    },
    {
      "cell_type": "markdown",
      "source": [
        "##### 2. What is/are the insight(s) found from the chart?"
      ],
      "metadata": {
        "id": "GwzvFGzlYuh3"
      }
    },
    {
      "cell_type": "markdown",
      "source": [
        "Many use >50% credit."
      ],
      "metadata": {
        "id": "uyqkiB8YYuh3"
      }
    },
    {
      "cell_type": "markdown",
      "source": [
        "##### 3. Will the gained insights help creating a positive business impact?\n",
        "Are there any insights that lead to negative growth? Justify with specific reason."
      ],
      "metadata": {
        "id": "qYpmQ266Yuh3"
      }
    },
    {
      "cell_type": "markdown",
      "source": [
        " AnswerRisk control + product recommendations."
      ],
      "metadata": {
        "id": "_WtzZ_hCYuh4"
      }
    },
    {
      "cell_type": "markdown",
      "source": [
        "#### Chart - 6"
      ],
      "metadata": {
        "id": "OH-pJp9IphqM"
      }
    },
    {
      "cell_type": "code",
      "source": [
        "# Chart - 6 visualization code\n",
        "# 6. Occupation Distribution (Bar Plot)\n",
        "plt.figure(figsize=(10,5))\n",
        "sns.countplot(y='Occupation', data=df, order=df['Occupation'].value_counts().index)\n",
        "plt.title(\"Occupation Distribution of Customers\")\n",
        "plt.xlabel(\"Count\")\n",
        "plt.ylabel(\"Occupation\")\n",
        "plt.show()"
      ],
      "metadata": {
        "id": "kuRf4wtuphqN"
      },
      "execution_count": null,
      "outputs": []
    },
    {
      "cell_type": "markdown",
      "source": [
        "##### 1. Why did you pick the specific chart?"
      ],
      "metadata": {
        "id": "bbFf2-_FphqN"
      }
    },
    {
      "cell_type": "markdown",
      "source": [
        "A bar chart makes it simple to compare how many customers belong to each occupation."
      ],
      "metadata": {
        "id": "loh7H2nzphqN"
      }
    },
    {
      "cell_type": "markdown",
      "source": [
        "##### 2. What is/are the insight(s) found from the chart?"
      ],
      "metadata": {
        "id": "_ouA3fa0phqN"
      }
    },
    {
      "cell_type": "markdown",
      "source": [
        "Lawyers and Engineers form the majority of the customer base. Other professions like doctors, or business owners are fewer in number."
      ],
      "metadata": {
        "id": "VECbqPI7phqN"
      }
    },
    {
      "cell_type": "markdown",
      "source": [
        "Answer Here"
      ],
      "metadata": {
        "id": "DW4_bGpfphqN"
      }
    },
    {
      "cell_type": "markdown",
      "source": [
        "#### Chart - 7"
      ],
      "metadata": {
        "id": "PIIx-8_IphqN"
      }
    },
    {
      "cell_type": "code",
      "source": [
        "# Chart - 7 visualization code\n",
        "# 7. Credit Score vs Annual Income (Boxplot)\n",
        "plt.figure(figsize=(8,5))\n",
        "sns.boxplot(x='Credit_Score', y='Annual_Income', data=df, order=[\"Poor\", \"Standard\", \"Good\"])\n",
        "plt.title(\"Credit Score vs Annual Income\")\n",
        "plt.xlabel(\"Credit Score\")\n",
        "plt.ylabel(\"Annual Income\")\n",
        "plt.show()"
      ],
      "metadata": {
        "id": "lqAIGUfyphqO"
      },
      "execution_count": null,
      "outputs": []
    },
    {
      "cell_type": "markdown",
      "source": [
        "##### 1. Why did you pick the specific chart?"
      ],
      "metadata": {
        "id": "t27r6nlMphqO"
      }
    },
    {
      "cell_type": "markdown",
      "source": [
        "A boxplot is great for showing income ranges across different credit score categories (Good, Standard, Poor)."
      ],
      "metadata": {
        "id": "iv6ro40sphqO"
      }
    },
    {
      "cell_type": "markdown",
      "source": [
        "##### 2. What is/are the insight(s) found from the chart?"
      ],
      "metadata": {
        "id": "r2jJGEOYphqO"
      }
    },
    {
      "cell_type": "markdown",
      "source": [
        "Customers with a “Good” credit score tend to have higher annual incomes compared to those with “Poor” scores."
      ],
      "metadata": {
        "id": "Po6ZPi4hphqO"
      }
    },
    {
      "cell_type": "markdown",
      "source": [
        "##### 3. Will the gained insights help creating a positive business impact?\n",
        "Are there any insights that lead to negative growth? Justify with specific reason."
      ],
      "metadata": {
        "id": "b0JNsNcRphqO"
      }
    },
    {
      "cell_type": "markdown",
      "source": [
        "This means income is strongly linked to creditworthiness, so banks can give higher loan limits to high-income groups while being cautious with low-income customers."
      ],
      "metadata": {
        "id": "xvSq8iUTphqO"
      }
    },
    {
      "cell_type": "markdown",
      "source": [
        "#### Chart - 8"
      ],
      "metadata": {
        "id": "BZR9WyysphqO"
      }
    },
    {
      "cell_type": "code",
      "source": [
        "# Chart - 8 visualization code\n",
        "# 8. Credit Score vs Age (Boxplot)\n",
        "plt.figure(figsize=(8,5))\n",
        "sns.boxplot(x='Credit_Score', y='Age', data=df, order=[\"Poor\", \"Standard\", \"Good\"])\n",
        "plt.title(\"Credit Score vs Age\")\n",
        "plt.xlabel(\"Credit Score\")\n",
        "plt.ylabel(\"Age\")\n",
        "plt.show()"
      ],
      "metadata": {
        "id": "TdPTWpAVphqO"
      },
      "execution_count": null,
      "outputs": []
    },
    {
      "cell_type": "markdown",
      "source": [
        "##### 1. Why did you pick the specific chart?"
      ],
      "metadata": {
        "id": "jj7wYXLtphqO"
      }
    },
    {
      "cell_type": "markdown",
      "source": [
        "Age may influence how responsibly people handle credit, and a boxplot highlights patterns across age groups."
      ],
      "metadata": {
        "id": "Ob8u6rCTphqO"
      }
    },
    {
      "cell_type": "markdown",
      "source": [
        "##### 2. What is/are the insight(s) found from the chart?"
      ],
      "metadata": {
        "id": "eZrbJ2SmphqO"
      }
    },
    {
      "cell_type": "markdown",
      "source": [
        "Older customers (35+) generally have better credit scores than younger ones, who are more likely to be in the “Poor” or “Standard” categories."
      ],
      "metadata": {
        "id": "mZtgC_hjphqO"
      }
    },
    {
      "cell_type": "markdown",
      "source": [
        "##### 3. Will the gained insights help creating a positive business impact?\n",
        "Are there any insights that lead to negative growth? Justify with specific reason."
      ],
      "metadata": {
        "id": "rFu4xreNphqO"
      }
    },
    {
      "cell_type": "markdown",
      "source": [
        "Age can be used as an additional profiling factor in credit models. For example, offering credit-building products to younger customers can help grow long-term loyalty."
      ],
      "metadata": {
        "id": "ey_0qi68phqO"
      }
    },
    {
      "cell_type": "markdown",
      "source": [
        "#### Chart - 9"
      ],
      "metadata": {
        "id": "YJ55k-q6phqO"
      }
    },
    {
      "cell_type": "code",
      "source": [
        "# Chart - 9 visualization code\n",
        "# 9. Credit Score vs Number of Loans (Bar Plot)\n",
        "plt.figure(figsize=(8,5))\n",
        "sns.barplot(x='Credit_Score', y='Num_of_Loan', data=df, order=[\"Poor\", \"Standard\", \"Good\"], ci=None)\n",
        "plt.title(\"Credit Score vs Number of Loans\")\n",
        "plt.xlabel(\"Credit Score\")\n",
        "plt.ylabel(\"Average Number of Loans\")\n",
        "plt.show()"
      ],
      "metadata": {
        "id": "B2aS4O1ophqO"
      },
      "execution_count": null,
      "outputs": []
    },
    {
      "cell_type": "markdown",
      "source": [
        "##### 1. Why did you pick the specific chart?"
      ],
      "metadata": {
        "id": "gCFgpxoyphqP"
      }
    },
    {
      "cell_type": "markdown",
      "source": [
        "Shows the relationship between loan count and credit scores."
      ],
      "metadata": {
        "id": "TVxDimi2phqP"
      }
    },
    {
      "cell_type": "markdown",
      "source": [
        "##### 2. What is/are the insight(s) found from the chart?"
      ],
      "metadata": {
        "id": "OVtJsKN_phqQ"
      }
    },
    {
      "cell_type": "markdown",
      "source": [
        "Customers with multiple loans often fall into the “Poor” category, while those with fewer loans tend to score “Good.”"
      ],
      "metadata": {
        "id": "ngGi97qjphqQ"
      }
    },
    {
      "cell_type": "markdown",
      "source": [
        "##### 3. Will the gained insights help creating a positive business impact?\n",
        "Are there any insights that lead to negative growth? Justify with specific reason."
      ],
      "metadata": {
        "id": "lssrdh5qphqQ"
      }
    },
    {
      "cell_type": "markdown",
      "source": [
        "Helps banks decide on loan eligibility rules, if someone already has many loans, their credit risk increases, so stricter checks are needed."
      ],
      "metadata": {
        "id": "tBpY5ekJphqQ"
      }
    },
    {
      "cell_type": "markdown",
      "source": [
        "#### Chart - 10"
      ],
      "metadata": {
        "id": "U2RJ9gkRphqQ"
      }
    },
    {
      "cell_type": "code",
      "source": [
        "# Chart - 10 visualization code\n",
        "# 10. Credit Score vs Payment of Minimum Amount (Stacked Bar)\n",
        "payment_min = pd.crosstab(df['Payment_of_Min_Amount'], df['Credit_Score'], normalize='index') * 100\n",
        "payment_min.plot(kind='bar', stacked=True, figsize=(8,5), colormap=\"Set2\")\n",
        "plt.title(\"Credit Score vs Payment of Minimum Amount\")\n",
        "plt.xlabel(\"Payment of Minimum Amount\")\n",
        "plt.ylabel(\"Percentage %\")\n",
        "plt.legend(title=\"Credit Score\")\n",
        "plt.show()"
      ],
      "metadata": {
        "id": "GM7a4YP4phqQ"
      },
      "execution_count": null,
      "outputs": []
    },
    {
      "cell_type": "markdown",
      "source": [
        "##### 1. Why did you pick the specific chart?"
      ],
      "metadata": {
        "id": "1M8mcRywphqQ"
      }
    },
    {
      "cell_type": "markdown",
      "source": [
        "To check if customers are at least paying the minimum due on time."
      ],
      "metadata": {
        "id": "8agQvks0phqQ"
      }
    },
    {
      "cell_type": "markdown",
      "source": [
        "##### 2. What is/are the insight(s) found from the chart?"
      ],
      "metadata": {
        "id": "tgIPom80phqQ"
      }
    },
    {
      "cell_type": "markdown",
      "source": [
        "Customers who skip minimum payments are far more likely to have “Poor” credit scores. Regular payers cluster in the “Good” score range."
      ],
      "metadata": {
        "id": "Qp13pnNzphqQ"
      }
    },
    {
      "cell_type": "markdown",
      "source": [
        "##### 3. Will the gained insights help creating a positive business impact?\n",
        "Are there any insights that lead to negative growth? Justify with specific reason."
      ],
      "metadata": {
        "id": "JMzcOPDDphqR"
      }
    },
    {
      "cell_type": "markdown",
      "source": [
        "This is an early warning signal—if someone stops paying minimum dues, the bank can take preventive steps like reminders or lowering their credit limit."
      ],
      "metadata": {
        "id": "R4Ka1PC2phqR"
      }
    },
    {
      "cell_type": "markdown",
      "source": [
        "#### Chart - 11"
      ],
      "metadata": {
        "id": "x-EpHcCOp1ci"
      }
    },
    {
      "cell_type": "code",
      "source": [
        "# Chart - 11 visualization code\n",
        "# 11. Credit Score vs Credit Mix (Stacked Bar)\n",
        "credit_mix = pd.crosstab(df['Credit_Mix'], df['Credit_Score'], normalize='index') * 100\n",
        "credit_mix.plot(kind='bar', stacked=True, figsize=(8,5), colormap=\"Paired\")\n",
        "plt.title(\"Credit Score vs Credit Mix\")\n",
        "plt.xlabel(\"Credit Mix\")\n",
        "plt.ylabel(\"Percentage %\")\n",
        "plt.legend(title=\"Credit Score\")\n",
        "plt.show()"
      ],
      "metadata": {
        "id": "mAQTIvtqp1cj"
      },
      "execution_count": null,
      "outputs": []
    },
    {
      "cell_type": "markdown",
      "source": [
        "##### 1. Why did you pick the specific chart?"
      ],
      "metadata": {
        "id": "X_VqEhTip1ck"
      }
    },
    {
      "cell_type": "markdown",
      "source": [
        "A mix of credit types (loans, credit cards, mortgages) shows financial balance."
      ],
      "metadata": {
        "id": "-vsMzt_np1ck"
      }
    },
    {
      "cell_type": "markdown",
      "source": [
        "##### 2. What is/are the insight(s) found from the chart?"
      ],
      "metadata": {
        "id": "8zGJKyg5p1ck"
      }
    },
    {
      "cell_type": "markdown",
      "source": [
        "People with a balanced mix (e.g., some loans + credit cards) usually have better credit scores. Those relying heavily on one type often score lower."
      ],
      "metadata": {
        "id": "ZYdMsrqVp1ck"
      }
    },
    {
      "cell_type": "markdown",
      "source": [
        "##### 3. Will the gained insights help creating a positive business impact?\n",
        "Are there any insights that lead to negative growth? Justify with specific reason."
      ],
      "metadata": {
        "id": "PVzmfK_Ep1ck"
      }
    },
    {
      "cell_type": "markdown",
      "source": [
        "Banks can encourage customers to diversify credit (e.g., offering small personal loans to card-only users) to improve financial stability."
      ],
      "metadata": {
        "id": "druuKYZpp1ck"
      }
    },
    {
      "cell_type": "markdown",
      "source": [
        "#### Chart - 12"
      ],
      "metadata": {
        "id": "n3dbpmDWp1ck"
      }
    },
    {
      "cell_type": "code",
      "source": [
        "# Chart - 12 visualization code\n",
        "#12. Credit Score vs Number of Delayed Payments (Boxplot)\n",
        "plt.figure(figsize=(8,5))\n",
        "sns.boxplot(x='Credit_Score', y='Num_of_Delayed_Payment', data=df, order=[\"Poor\", \"Standard\", \"Good\"])\n",
        "plt.title(\"Credit Score vs Number of Delayed Payments\")\n",
        "plt.xlabel(\"Credit Score\")\n",
        "plt.ylabel(\"Number of Delayed Payments\")\n",
        "plt.show()"
      ],
      "metadata": {
        "id": "bwevp1tKp1ck"
      },
      "execution_count": null,
      "outputs": []
    },
    {
      "cell_type": "markdown",
      "source": [
        "##### 1. Why did you pick the specific chart?"
      ],
      "metadata": {
        "id": "ylSl6qgtp1ck"
      }
    },
    {
      "cell_type": "markdown",
      "source": [
        "Payment delays are a direct red flag for credit health."
      ],
      "metadata": {
        "id": "m2xqNkiQp1ck"
      }
    },
    {
      "cell_type": "markdown",
      "source": [
        "##### 2. What is/are the insight(s) found from the chart?"
      ],
      "metadata": {
        "id": "ZWILFDl5p1ck"
      }
    },
    {
      "cell_type": "markdown",
      "source": [
        "Customers with frequent delays overwhelmingly fall into the “Poor” category. Those with fewer or no delays mostly score “Good.”"
      ],
      "metadata": {
        "id": "x-lUsV2mp1ck"
      }
    },
    {
      "cell_type": "markdown",
      "source": [
        "##### 3. Will the gained insights help creating a positive business impact?\n",
        "Are there any insights that lead to negative growth? Justify with specific reason."
      ],
      "metadata": {
        "id": "M7G43BXep1ck"
      }
    },
    {
      "cell_type": "markdown",
      "source": [
        "Helps banks enforce stricter lending rules for customers with repeated late payments."
      ],
      "metadata": {
        "id": "5wwDJXsLp1cl"
      }
    },
    {
      "cell_type": "markdown",
      "source": [
        "#### Chart - 13"
      ],
      "metadata": {
        "id": "Ag9LCva-p1cl"
      }
    },
    {
      "cell_type": "code",
      "source": [
        "# Chart - 13 visualization code\n",
        "# 13. Credit Score vs Credit Utilization Ratio (Boxplot)\n",
        "plt.figure(figsize=(8,5))\n",
        "sns.boxplot(x='Credit_Score', y='Credit_Utilization_Ratio', data=df, order=[\"Poor\", \"Standard\", \"Good\"])\n",
        "plt.title(\"Credit Score vs Credit Utilization Ratio\")\n",
        "plt.xlabel(\"Credit Score\")\n",
        "plt.ylabel(\"Credit Utilization Ratio\")\n",
        "plt.show()"
      ],
      "metadata": {
        "id": "EUfxeq9-p1cl"
      },
      "execution_count": null,
      "outputs": []
    },
    {
      "cell_type": "markdown",
      "source": [
        "##### 1. Why did you pick the specific chart?"
      ],
      "metadata": {
        "id": "E6MkPsBcp1cl"
      }
    },
    {
      "cell_type": "markdown",
      "source": [
        "Credit utilization (how much of your limit you use) strongly affects credit scores."
      ],
      "metadata": {
        "id": "V22bRsFWp1cl"
      }
    },
    {
      "cell_type": "markdown",
      "source": [
        "##### 2. What is/are the insight(s) found from the chart?"
      ],
      "metadata": {
        "id": "2cELzS2fp1cl"
      }
    },
    {
      "cell_type": "markdown",
      "source": [
        "Customers with “Poor” scores typically use more than 70% of their available credit, while “Good” scorers keep usage below 30–40%."
      ],
      "metadata": {
        "id": "ozQPc2_Ip1cl"
      }
    },
    {
      "cell_type": "markdown",
      "source": [
        "##### 3. Will the gained insights help creating a positive business impact?\n",
        "Are there any insights that lead to negative growth? Justify with specific reason."
      ],
      "metadata": {
        "id": "3MPXvC8up1cl"
      }
    },
    {
      "cell_type": "markdown",
      "source": [
        "Useful for risk assessment—banks can set alerts when utilization is high, as it signals repayment trouble."
      ],
      "metadata": {
        "id": "GL8l1tdLp1cl"
      }
    },
    {
      "cell_type": "markdown",
      "source": [
        "#### Chart - 14"
      ],
      "metadata": {
        "id": "NC_X3p0fY2L0"
      }
    },
    {
      "cell_type": "code",
      "source": [
        "\n",
        "# 14. Correlation Heatmap\n",
        "plt.figure(figsize=(14,10))\n",
        "sns.heatmap(corr,\n",
        "            cmap=\"coolwarm\",\n",
        "            annot=True,\n",
        "            fmt=\".2f\",       # 2 decimal places\n",
        "            linewidths=0.5,\n",
        "            annot_kws={\"size\":8})  # smaller text\n",
        "\n",
        "plt.title(\"Correlation Heatmap (with values)\", fontsize=14)\n",
        "plt.show()\n",
        "\n"
      ],
      "metadata": {
        "id": "xyC9zolEZNRQ"
      },
      "execution_count": null,
      "outputs": []
    },
    {
      "cell_type": "markdown",
      "source": [
        "##### 1. Why did you pick the specific chart?"
      ],
      "metadata": {
        "id": "UV0SzAkaZNRQ"
      }
    },
    {
      "cell_type": "markdown",
      "source": [
        "A heatmap makes it easy to see relationships between numbers (like income, EMI, debt, salary)"
      ],
      "metadata": {
        "id": "DVPuT8LYZNRQ"
      }
    },
    {
      "cell_type": "markdown",
      "source": [
        "##### 2. What is/are the insight(s) found from the chart?"
      ],
      "metadata": {
        "id": "YPEH6qLeZNRQ"
      }
    },
    {
      "cell_type": "markdown",
      "source": [
        "Some features are strongly linked, e.g., Debt and EMI are correlated, Income and Salary are correlated."
      ],
      "metadata": {
        "id": "bfSqtnDqZNRR"
      }
    },
    {
      "cell_type": "markdown",
      "source": [
        "#### Chart - 15"
      ],
      "metadata": {
        "id": "q29F0dvdveiT"
      }
    },
    {
      "cell_type": "code",
      "source": [
        "plt.figure(figsize=(12,6))\n",
        "sns.violinplot(x=\"Occupation\", y=\"Annual_Income\", hue=\"Credit_Score\",\n",
        "               data=df, split=True, inner=\"quart\", palette=\"Set2\")\n",
        "plt.xticks(rotation=45)\n",
        "plt.title(\"Occupation vs Annual Income by Credit Score\")\n",
        "plt.show()"
      ],
      "metadata": {
        "id": "o58-TEIhveiU"
      },
      "execution_count": null,
      "outputs": []
    },
    {
      "cell_type": "markdown",
      "source": [
        "##### 1. Why did you pick the specific chart?"
      ],
      "metadata": {
        "id": "EXh0U9oCveiU"
      }
    },
    {
      "cell_type": "markdown",
      "source": [
        "A violin plot is chosen because it not only shows the spread of incomes in each occupation but also compares this spread across different credit score groups (Good, Standard, Poor). It gives a deeper view than a bar chart or boxplot."
      ],
      "metadata": {
        "id": "eMmPjTByveiU"
      }
    },
    {
      "cell_type": "markdown",
      "source": [
        "##### 2. What is/are the insight(s) found from the chart?"
      ],
      "metadata": {
        "id": "22aHeOlLveiV"
      }
    },
    {
      "cell_type": "markdown",
      "source": [
        "High-income occupations like Doctors, Engineers, and Managers tend to have a larger portion of customers with Good credit scores.\n",
        "\n",
        "Occupations such as Writers, Musicians, and Mechanics show a wider spread of incomes but also more customers falling in the Standard or Poor score range.\n",
        "\n",
        "Some professions (e.g., Teachers, Accountants) show a balanced middle-income range, with many in the Standard category."
      ],
      "metadata": {
        "id": "uPQ8RGwHveiV"
      }
    },
    {
      "cell_type": "markdown",
      "source": [
        "## **5. Solution to Business Objective**"
      ],
      "metadata": {
        "id": "JcMwzZxoAimU"
      }
    },
    {
      "cell_type": "markdown",
      "source": [
        "#### What do you suggest the client to achieve Business Objective ?\n",
        "Explain Briefly."
      ],
      "metadata": {
        "id": "8G2x9gOozGDZ"
      }
    },
    {
      "cell_type": "markdown",
      "source": [
        "Segment customers clearly:\n",
        "\n",
        "Good → Premium offers, high-value loans.\n",
        "\n",
        "Standard → Credit improvement programs and personalized loan offers.\n",
        "\n",
        "Poor → Strict monitoring and limited credit exposure.\n",
        "\n",
        "Improve risk scoring by giving more weight to utilization, repayment discipline, and delay history, alongside traditional factors like income.\n",
        "\n",
        "Targeted marketing: Promote premium products to high-income, low-risk groups (Doctors, Engineers, Managers) while focusing on affordable, starter-level products for young/mid-income customers.\n",
        "\n",
        "Encourage repayment discipline through auto-debit, SMS/email reminders, and reward points for timely payments.\n",
        "\n",
        "By applying these insights, Paisabazaar can lower default rates, improve customer creditworthiness, and increase revenue by matching the right products with the right people. In short, this analysis shows how data-driven credit assessment can make lending both safer and more profitable.Answer Here."
      ],
      "metadata": {
        "id": "pASKb0qOza21"
      }
    },
    {
      "cell_type": "markdown",
      "source": [
        "# **Conclusion**"
      ],
      "metadata": {
        "id": "gCX9965dhzqZ"
      }
    },
    {
      "cell_type": "markdown",
      "source": [
        "From the analysis, it’s clear that customer credit scores are shaped by multiple factors such as income, age, debt levels, repayment discipline, and even occupation. The data shows that most customers fall into the Standard credit score range, which creates both a challenge and an opportunity — these individuals can be guided towards better scores with the right financial products and awareness.\n",
        "\n",
        "High credit utilization, delayed payments, and skipping minimum payments are the strongest indicators of poor creditworthiness. On the other hand, customers with steady income, balanced credit mix, and disciplined repayment behavior consistently achieve good credit scores."
      ],
      "metadata": {
        "id": "Fjb1IsQkh3yE"
      }
    },
    {
      "cell_type": "markdown",
      "source": [
        "### ***Hurrah! You have successfully completed your EDA Capstone Project !!!***"
      ],
      "metadata": {
        "id": "gIfDvo9L0UH2"
      }
    },
    {
      "cell_type": "code",
      "metadata": {
        "id": "fd4cc399"
      },
      "source": [
        "# Load Dataset\n",
        "df = pd.read_csv('/content/drive/MyDrive/dataset(2).csv')\n"
      ],
      "execution_count": null,
      "outputs": []
    },
    {
      "cell_type": "code",
      "source": [],
      "metadata": {
        "id": "14kAPKUuueDC"
      },
      "execution_count": null,
      "outputs": []
    }
  ]
}